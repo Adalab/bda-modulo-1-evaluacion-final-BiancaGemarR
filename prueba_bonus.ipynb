{
 "cells": [
  {
   "cell_type": "code",
   "execution_count": 1,
   "id": "66adbf31",
   "metadata": {},
   "outputs": [],
   "source": [
    "class TiendaOnline:\n",
    "    def __init__(self, nombre):\n",
    "        self.nombre = nombre \n",
    "        self.inventario = {}   #inventario y ventas totales son atributos\n",
    "        self.ventas_totales = float(0) #aquí tiene que ir un float\n",
    "        self.clientes = {} #agregado en la parte Bonus\n",
    "\n",
    "    def agregar_producto(self, nombre, precio, cantidad):\n",
    "        if nombre in self.inventario:\n",
    "            self.inventario[nombre][0] = precio\n",
    "            self.inventario[nombre][1] = cantidad #intento actualizar precio y cantidad, update me da error\n",
    "            print(f\"El producto ya existe, en el inventario aparece la cantidad {cantidad} al precio {precio}.\") #actualizar producto con update\n",
    "\n",
    "        else:\n",
    "            self.inventario[nombre] = [precio, cantidad] #agregar producto, asignación directa\n",
    "            print(f\"El producto {nombre} se ha agregado con éxito.\")\n",
    "\n",
    "    def ver_inventario(self):\n",
    "        inventario = {}\n",
    "        for nombre in self.inventario: #bucle para iterar por el inventario, sin for se podrían hacer condicionales directamente\n",
    "            precio, cantidad = self.inventario[nombre] #extraer valores de una lista, aislar variables\n",
    "            inventario[nombre] = {\n",
    "                        \"Nombre\": nombre,\n",
    "                        \"Precio €\": precio,\n",
    "                         \"Cantidad\": cantidad,\n",
    "                        }\n",
    "        return inventario\n",
    "    \n",
    "    def buscar_producto(self, producto): #pongo producto como atributo para que reconozca la variable\n",
    "        for nombre in self.inventario: #se pide un bucle for\n",
    "            if nombre == producto: #definimos producto y lo == para que coincida con lo que ya tenemos en la lista\n",
    "                precio, cantidad = self.inventario[nombre] \n",
    "                print(f\"Detalles del producto. Nombre: {nombre}, Precio: {precio} €, cantidad {cantidad} en unidades.\")\n",
    "                return producto\n",
    "        else:\n",
    "            print(\"El producto que busca no está disponible.\") #else fuera para que no repita la iteración por todos los productos si no lo encuentra\n",
    "\n",
    "    def actualizar_stock(self, nombre, cantidad_actual):\n",
    "        for producto in self.inventario: \n",
    "            if nombre == producto:\n",
    "                precio, cantidad = self.inventario[nombre]\n",
    "                nueva_cantidad = cantidad + cantidad_actual #actualizar con ventas\n",
    "                if nueva_cantidad <0: #ha habido ventas y se ha reducido el stock\n",
    "                    print(f\"No se puede vender el producto {nombre} por falta de stock.\")\n",
    "                    \n",
    "                if cantidad_actual < 0:\n",
    "                    print(f\"Se han vendido {cantidad_actual} del producto {nombre}.\")  \n",
    "                elif cantidad_actual > 0 : #ha llegado stock a la tienda\n",
    "                    print(f\"Se han agregado {cantidad_actual} del producto {nombre}.\")\n",
    "                else: #no ha habido ventas ni ha llegado stock\n",
    "                    print(f\"El producto {nombre} no ha se ha modificado.\")\n",
    "            \n",
    "        if nombre not in self.inventario: #este producto no está en el inventario\n",
    "            print(f\"Este producto {nombre} no se encuentra en el inventario actualmente.\")\n",
    "\n",
    "    def eliminar_producto(self, nombre):\n",
    "        if nombre in self.inventario:\n",
    "            del self.inventario[nombre]\n",
    "            print(f\"El producto {nombre} ha sido eliminado con éxito.\")\n",
    "        else:\n",
    "            print(f\"El producto {nombre} no se encuentra en el inventario.\")\n",
    "\n",
    "    def calcular_valor_inventario(self):\n",
    "        total_valor = 0 #hay que empezar de 0 para que vaya sumando\n",
    "        for nombre, (precio, cantidad) in self.inventario.items(): #me itera por los tres, pero como es un diccionario hay que poner (), si no interpreta que es una tupla y items()\n",
    "            valor_producto = cantidad * precio\n",
    "            total_valor += valor_producto   #para que sume el valor en cada iteración por los productos\n",
    "            print(f\"Para el producto {nombre} el valor total es {valor_producto}\")\n",
    "        print(f\"El valor total de mi inventario es en € {total_valor}\") \n",
    "\n",
    "    def agregar_clientes(self, nombre, email):\n",
    "        compras = 0 #Nadie ha comprado todavía\n",
    "        \n",
    "        if nombre in self.clientes.keys(): # se usa keys porque es un diccionario\n",
    "            print(f\"El cliente {nombre} está en la lista.\")\n",
    "        else:\n",
    "            self.clientes[nombre] = {\"Email\" : email,\n",
    "                    \"Compras realizadas\" : compras}\n",
    "            print(f\"El cliente {nombre} ha sido agregado con el email: {email}.\")\n",
    "\n",
    "    def ver_clientes(self):\n",
    "        clientes = {}\n",
    "        for nombre, info in self.clientes.items(): #items() devuelve lista de tuplas con clave y su valor\n",
    "            email = info['Email'] #como es un dic nos puede dar error, por eso se usa info, para poder extraer los datos \n",
    "            compras = info['Compras realizadas']\n",
    "            clientes[nombre] = {\n",
    "                        \"Email\": email,\n",
    "                        \"Compras realizadas\": compras,\n",
    "                    }\n",
    "        return clientes\n",
    "    def realizar_compra(self, cantidad, cliente):\n",
    "        if  cliente not in self.clientes: #primera condición cliente registrado\n",
    "            print(f\"El cliente no está registrado, se debe registrar para la compra.\")\n",
    "        \n",
    "        else:\n",
    "            while  True:\n",
    "                producto = input('Inserte el producto que quiere buscar').lower() #input dentro del bucle para volver a preguntar\n",
    "                \n",
    "                if producto not in self.inventario: #segunda condición para hacer compra\n",
    "                    print(f\"El producto {producto} no se encuentra disponible.\")\n",
    "                if producto in self.inventario:\n",
    "                    if self.inventario[producto][1] >= cantidad: #si está en el inventario y hay cantidad suficiente\n",
    "                        self.inventario[producto][1] -= cantidad #se actualiza la cantidad en el inventario\n",
    "                        print(f\"La compra del producto {producto} ha sido un éxito.\")\n",
    "                        print(f\"¿Quiere comprar algún otro producto de la tienda? Productos disponibles {self.inventario}.\")\n",
    "                seguir_comprando = input('¿Quiere seguir comprando?').lower() #volver a preguntar para detener el bucle\n",
    "                if seguir_comprando == 'no':\n",
    "                    print(\"Gracias por su compra. Hasta la próxima.\")\n",
    "                    break\n",
    "\n",
    "    def procesar_pago(self, producto):\n",
    "        precio, cantidad_disponible = self.inventario[producto]\n",
    "        valor_total = 0\n",
    "        while True: \n",
    "            try:\n",
    "                cantidad_cliente = int(input('Inserte aquí la cantidad de producto que quiere.'))\n",
    "                if cantidad_cliente <= cantidad_disponible:\n",
    "                    valor = cantidad_cliente * precio\n",
    "                    valor_total += valor #para hacer esto se necesita un bucle, ponemos while True\n",
    "                    print(f\"Compra por la cantidad {cantidad_cliente} por el valor de {valor_total} € realizada con éxito.\")\n",
    "                    \n",
    "                else:\n",
    "                    print(f\"Error, no hay tanta cantidad del producto.\")\n",
    "\n",
    "            except ValueError: #se usa por si alguien pone un número inválido, como negativo. La única clase de excepción para este ejercicio.\n",
    "                print(\"Error. Inserte un número válido.\")\n",
    "            break\n",
    "            \n",
    "                \n",
    "            \n",
    "                    "
   ]
  },
  {
   "cell_type": "code",
   "execution_count": 2,
   "id": "aa4bded2",
   "metadata": {},
   "outputs": [
    {
     "name": "stdout",
     "output_type": "stream",
     "text": [
      "El producto fresas se ha agregado con éxito.\n",
      "El producto arándanos se ha agregado con éxito.\n",
      "El producto ya existe, en el inventario aparece la cantidad 50 al precio 3.\n",
      "El producto patatas se ha agregado con éxito.\n",
      "Detalles del producto. Nombre: fresas, Precio: 3 €, cantidad 50 en unidades.\n",
      "Detalles del producto. Nombre: patatas, Precio: 4 €, cantidad 60 en unidades.\n",
      "El producto que busca no está disponible.\n",
      "Se han agregado 6 del producto fresas.\n",
      "Se han agregado 6 del producto patatas.\n",
      "Este producto manzanas no se encuentra en el inventario actualmente.\n",
      "El producto patatas ha sido eliminado con éxito.\n",
      "Para el producto fresas el valor total es 150\n",
      "Para el producto arándanos el valor total es 200\n",
      "El valor total de mi inventario es en € 350\n"
     ]
    }
   ],
   "source": [
    "tienda1 = TiendaOnline('Biotienda')\n",
    "tienda1.agregar_producto('fresas', 3, 50)\n",
    "tienda1.agregar_producto('arándanos', 5, 40)\n",
    "tienda1.agregar_producto('fresas', 3, 50)\n",
    "tienda1.agregar_producto('patatas', 4, 60)\n",
    "tienda1.ver_inventario() #el nombre queda redundante, pero si lo quito de la def me falla, así que lo dejo, en el ejercicio de repasso se hacía con id_number pero aquí lo he hecho con el nombre directamente\n",
    "tienda1.buscar_producto('fresas')\n",
    "tienda1.buscar_producto('patatas')\n",
    "tienda1.buscar_producto('manzanas')\n",
    "tienda1.actualizar_stock('fresas', 6)\n",
    "tienda1.actualizar_stock('patatas', 6)\n",
    "tienda1.actualizar_stock('manzanas', 6) \n",
    "tienda1.eliminar_producto('patatas')\n",
    "tienda1.ver_inventario() #se actualiza correctamente sin patatas\n",
    "tienda1.calcular_valor_inventario()"
   ]
  },
  {
   "cell_type": "code",
   "execution_count": 3,
   "id": "6af2074c",
   "metadata": {},
   "outputs": [
    {
     "name": "stdout",
     "output_type": "stream",
     "text": [
      "El cliente Marc ha sido agregado con el email: Marc@gmail.com.\n",
      "El cliente Mercedes ha sido agregado con el email: merce@gmail.com.\n",
      "El cliente Melania ha sido agregado con el email: mel@gmail.com.\n"
     ]
    }
   ],
   "source": [
    "cliente1 = ('Marc', 'Marc@gmail.com')\n",
    "cliente2 = ('Mercedes', 'merce@gmail.com')\n",
    "cliente3 = ('Melania', 'mel@gmail.com')\n",
    "tienda1.agregar_clientes('Marc', 'Marc@gmail.com')\n",
    "tienda1.agregar_clientes('Mercedes', 'merce@gmail.com')\n",
    "tienda1.agregar_clientes('Melania', 'mel@gmail.com')\n",
    "\n"
   ]
  },
  {
   "cell_type": "code",
   "execution_count": 4,
   "id": "3a7ebd9f",
   "metadata": {},
   "outputs": [
    {
     "name": "stdout",
     "output_type": "stream",
     "text": [
      "{'Marc': {'Email': 'Marc@gmail.com', 'Compras realizadas': 0}, 'Mercedes': {'Email': 'merce@gmail.com', 'Compras realizadas': 0}, 'Melania': {'Email': 'mel@gmail.com', 'Compras realizadas': 0}}\n"
     ]
    }
   ],
   "source": [
    "print(tienda1.clientes)"
   ]
  },
  {
   "cell_type": "code",
   "execution_count": 5,
   "id": "0f0b8abd",
   "metadata": {},
   "outputs": [
    {
     "name": "stdout",
     "output_type": "stream",
     "text": [
      "{'Marc': {'Email': 'Marc@gmail.com', 'Compras realizadas': 0}, 'Mercedes': {'Email': 'merce@gmail.com', 'Compras realizadas': 0}, 'Melania': {'Email': 'mel@gmail.com', 'Compras realizadas': 0}}\n"
     ]
    }
   ],
   "source": [
    "print(tienda1.ver_clientes())"
   ]
  },
  {
   "cell_type": "code",
   "execution_count": 6,
   "id": "b620dfd3",
   "metadata": {},
   "outputs": [
    {
     "name": "stdout",
     "output_type": "stream",
     "text": [
      "La compra del producto fresas ha sido un éxito.\n",
      "¿Quiere comprar algún otro producto de la tienda? Productos disponibles {'fresas': [3, 48], 'arándanos': [5, 40]}.\n",
      "Gracias por su compra. Hasta la próxima.\n"
     ]
    }
   ],
   "source": [
    "tienda1.realizar_compra(2, 'Marc')\n",
    "\n",
    "\n",
    "\n"
   ]
  },
  {
   "cell_type": "code",
   "execution_count": 7,
   "id": "6d11c5fe",
   "metadata": {},
   "outputs": [
    {
     "name": "stdout",
     "output_type": "stream",
     "text": [
      "Compra por la cantidad 4 por el valor de 12 € realizada con éxito.\n"
     ]
    }
   ],
   "source": [
    "tienda1.procesar_pago('fresas')"
   ]
  },
  {
   "cell_type": "code",
   "execution_count": null,
   "id": "41f21ceb",
   "metadata": {},
   "outputs": [],
   "source": [
    "def registrar_compra(self, nombre_cliente, carrito): \n",
    "    total_ventas = 0\n",
    "    total_compra = 0 #se inicializa en 0 porque todavía no se ha comprado nada\n",
    "    if nombre_cliente not in clientes: #si el cliente no está en nuestra base de datos\n",
    "        print(f\"No se puede realizar la acción. Este cliente no está registrado.\")\n",
    "    \n",
    "    else: #si el cliente sí está\n",
    "        for producto, info in carrito.items(): #carrito es un dicc --> items() --> lista de tuplas\n",
    "            precio = info['Precio']     \n",
    "            cantidad = info['Cantidad'] #como es un dic nos puede dar error, por eso se usa info, para poder extraer los datos\n",
    "                                \n",
    "            total_compra += precio * cantidad #+= se acumulen en el bucle\n",
    "            total_ventas += total_compra  #en la tienda se suma todas las compras para dar un total ventas, en un bucle para que se añadan\n",
    "            print(f\"Tu compra del producto {producto} por la cantidad {cantidad} y el valor de {total_compra}€. Ha sido registrada con éxito.\")\n",
    "            \n",
    "        #asignación directa para registrar compra y ventas\n",
    "        clientes[nombre_cliente]['Carrito'] = carrito\n",
    "        clientes[nombre_cliente]['Total'] = total_compra "
   ]
  },
  {
   "cell_type": "code",
   "execution_count": null,
   "id": "65b0159a",
   "metadata": {},
   "outputs": [],
   "source": [
    "def registrar_compra(self, nombre_cliente, carrito): \n",
    "    total_compra = 0 #se inicializa en 0 porque todavía no se ha comprado nada\n",
    "    if nombre_cliente not in clientes: #si el cliente no está en nuestra base de datos\n",
    "        print(f\"No se puede realizar la acción. Este cliente no está registrado.\")\n",
    "    \n",
    "    else: #si el cliente sí está\n",
    "        for producto, info in carrito.items(): #carrito es un dicc --> items() --> lista de tuplas\n",
    "            precio = info['Precio']     \n",
    "            cantidad = info['Cantidad'] #como es un dic nos puede dar error, por eso se usa info, para poder extraer los datos\n",
    "                                \n",
    "            total_compra = precio * cantidad\n",
    "            total_ventas += total_compra  #en la tienda se suma todas las compras para dar un total ventas, en un bucle para que se añadan\n",
    "            print(f\"Tu compra del producto {producto} por la cantidad {cantidad} y el valor de {total_compra}€. Ha sido registrada con éxito.\")\n",
    "            \n",
    "        #asignación directa para registrar compra y ventas\n",
    "        clientes[nombre_cliente]['Carrito'] = carrito\n",
    "        clientes[nombre_cliente]['Total'] = total_compra     \n",
    "\n",
    "        #me falta definir total_ventas, confusión con total compras           "
   ]
  },
  {
   "cell_type": "code",
   "execution_count": 18,
   "id": "8070297e",
   "metadata": {},
   "outputs": [],
   "source": [
    "def registrar_compra(self, nombre_cliente, carrito): \n",
    "    carrito = {} #vacío para poder llenarlo\n",
    "    total_compra = 0 #se inicializa en 0 porque todavía no se ha comprado nada\n",
    "    if nombre_cliente not in clientes: #si el cliente no está en nuestra base de datos\n",
    "        print(f\"No se puede realizar la acción. Este cliente no está registrado.\")\n",
    "    \n",
    "    else: #si el cliente sí está\n",
    "        for producto in carrito.items(): #carrito es un dicc --> items() --> lista de tuplas\n",
    "            carrito[producto] = {'Precio' : precio,     #crear parámetros en  carrito, AD\n",
    "                                'Cantidad' : cantidad\n",
    "                                }\n",
    "            total_compra = precio * cantidad\n",
    "            print(f\"Tu compra del producto {producto} por la cantidad {cantidad} y el valor de {total_compra}€. Ha sido registrada con éxito.\")\n",
    "\n",
    "#Falta guardar el registro de la compra en clientes y actualizar ventas\n"
   ]
  },
  {
   "cell_type": "code",
   "execution_count": null,
   "id": "74b4e865",
   "metadata": {},
   "outputs": [],
   "source": [
    "def registrar_compra(self, nombre_cliente, carrito): \n",
    "    carrito = {}\n",
    "    if nombre_cliente not in clientes:\n",
    "        print(f\"No se puede realizar la acción. Este cliente no está registrado.\")\n",
    "    \n",
    "    else:\n",
    "        carrito[producto] = {'Precio' : precio,     #crear parámetros en  carrito, AD\n",
    "                             'Cantidad' : cantidad\n",
    "                             }\n",
    "        total_compra = precio * cantidad\n",
    "        print(f\"Tu compra del producto {producto} por la cantidad {cantidad} y el valor de {total_compra}€. Ha sido registrada con éxito.\")\n",
    "\n",
    "\n"
   ]
  },
  {
   "cell_type": "code",
   "execution_count": 9,
   "id": "4304174b",
   "metadata": {},
   "outputs": [],
   "source": [
    "def realizar_compra(self, producto, cantidad, cliente):\n",
    "    while producto in self.inventario and cliente in self.clientes: #hay que cambiar el while para que se detenga cuando el cliente quiera\n",
    "        if producto[1] >= cantidad: # se puede realizar la compra\n",
    "            producto[1] -= cantidad in self.inventario\n",
    "            print(f\"Venta realizada con éxito del producto {producto}.\")\n",
    "            break\n",
    "        else:\n",
    "            print(f\"Este producto no está en el inventario\")\n",
    "            "
   ]
  },
  {
   "cell_type": "code",
   "execution_count": 10,
   "id": "285a8c16",
   "metadata": {},
   "outputs": [],
   "source": [
    "def realizar_compra(self, producto, cantidad, cliente):\n",
    "    producto = input('Inserte el producto que quiere buscar').lower #input dentro del bucle para volver a preguntar\n",
    "    if producto in self.inventario and cliente in self.clientes: \n",
    "        while  True:\n",
    "            if producto[1] >= cantidad: # se puede realizar la compra\n",
    "                producto[1] -= cantidad in self.inventario\n",
    "                print(f\"Venta realizada con éxito del producto {producto}.\")\n",
    "                break\n",
    "            else:\n",
    "                print(f\"Este producto no está en el inventario\")"
   ]
  },
  {
   "cell_type": "code",
   "execution_count": 11,
   "id": "9473fe80",
   "metadata": {},
   "outputs": [],
   "source": [
    "def realizar_compra(self, cantidad, cliente):\n",
    "    if  cliente not in self.clientes: #primera condición cliente registrado\n",
    "        print(f\"El cliente no está registrado, se debe registrar para la compra.\")\n",
    "    \n",
    "    else:\n",
    "        while  True:\n",
    "            producto = input('Inserte el producto que quiere buscar').lower() #input dentro del bucle para volver a preguntar\n",
    "            \n",
    "            if producto not in self.inventario: #segunda condición para hacer compra\n",
    "                print(f\"El producto {producto} no se encuentra disponible.\")\n",
    "            if producto in self.inventario:\n",
    "                if self.inventario[producto] >= cantidad: #si está en el inventario y hay cantidad suficiente\n",
    "                    self.inventario[producto] -= cantidad #se actualiza la cantidad en el inventario\n",
    "                    print(f\"La compra del producto {producto} ha sido un éxito.\")\n",
    "                    print(f\"¿Quiere comprar algún otro producto de la tienda? Productos disponibles {self.inventario}.\")\n",
    "            seguir_comprando = input('¿Quiere seguir comprando?').lower() #volver a preguntar para detener el bucle\n",
    "            if seguir_comprando == 'no':\n",
    "                print(\"Gracias por su compra. Hasta la próxima.\")\n",
    "                break\n",
    "\n",
    "\n",
    "\n",
    "            "
   ]
  },
  {
   "cell_type": "code",
   "execution_count": 12,
   "id": "5c5c629d",
   "metadata": {},
   "outputs": [],
   "source": [
    "def agregar_clientes(self, nombre, email):\n",
    "    compras = 0\n",
    "    self.clientes = { \"Nombre\" : nombre,\n",
    "                 \"Email\" : email,\n",
    "                 \"Compras realizadas\" : compras}\n",
    "    if nombre in self.clientes.keys(): # se usa keys porque es un diccionario\n",
    "        print(f\"El cliente {nombre} está en la lista.\")\n",
    "    else:\n",
    "        self.clientes[nombre] = [email, compras]\n",
    "        print(f\"El cliente {nombre} ha sido agregado con el email: {email}.\")\n"
   ]
  },
  {
   "cell_type": "code",
   "execution_count": 13,
   "id": "a36e3f10",
   "metadata": {},
   "outputs": [
    {
     "ename": "NameError",
     "evalue": "name 'nombre' is not defined",
     "output_type": "error",
     "traceback": [
      "\u001b[1;31m---------------------------------------------------------------------------\u001b[0m",
      "\u001b[1;31mNameError\u001b[0m                                 Traceback (most recent call last)",
      "Cell \u001b[1;32mIn[13], line 1\u001b[0m\n\u001b[1;32m----> 1\u001b[0m \u001b[38;5;28mself\u001b[39m\u001b[38;5;241m.\u001b[39mclientes \u001b[38;5;241m=\u001b[39m { \u001b[38;5;124m\"\u001b[39m\u001b[38;5;124mNombre\u001b[39m\u001b[38;5;124m\"\u001b[39m : nombre,\n\u001b[0;32m      2\u001b[0m                  \u001b[38;5;124m\"\u001b[39m\u001b[38;5;124mEmail\u001b[39m\u001b[38;5;124m\"\u001b[39m : email,\n\u001b[0;32m      3\u001b[0m                  \u001b[38;5;124m\"\u001b[39m\u001b[38;5;124mCompras realizadas\u001b[39m\u001b[38;5;124m\"\u001b[39m : compras\n\u001b[0;32m      4\u001b[0m }\n",
      "\u001b[1;31mNameError\u001b[0m: name 'nombre' is not defined"
     ]
    }
   ],
   "source": [
    "self.clientes = { \"Nombre\" : nombre,\n",
    "                 \"Email\" : email,\n",
    "                 \"Compras realizadas\" : compras\n",
    "}"
   ]
  },
  {
   "cell_type": "code",
   "execution_count": null,
   "id": "da9d80ed",
   "metadata": {},
   "outputs": [],
   "source": [
    "def ver_clientes(self):\n",
    "    clientes = {}\n",
    "    for cliente in self.clientes.items(): #items() devuelve lista de tuplas con clave y su valor\n",
    "        self.cliente[nombre] = email, compras\n",
    "        return clientes\n",
    "        "
   ]
  }
 ],
 "metadata": {
  "kernelspec": {
   "display_name": "base",
   "language": "python",
   "name": "python3"
  },
  "language_info": {
   "codemirror_mode": {
    "name": "ipython",
    "version": 3
   },
   "file_extension": ".py",
   "mimetype": "text/x-python",
   "name": "python",
   "nbconvert_exporter": "python",
   "pygments_lexer": "ipython3",
   "version": "3.12.7"
  }
 },
 "nbformat": 4,
 "nbformat_minor": 5
}
