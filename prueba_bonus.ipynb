{
 "cells": [
  {
   "cell_type": "code",
   "execution_count": 12,
   "id": "66adbf31",
   "metadata": {},
   "outputs": [],
   "source": [
    "class TiendaOnline:\n",
    "    def __init__(self, nombre):\n",
    "        self.nombre = nombre \n",
    "        self.inventario = {}   #inventario y ventas totales son atributos\n",
    "        self.ventas_totales = float(0) #aquí tiene que ir un float\n",
    "        self.clientes = {}\n",
    "\n",
    "    def agregar_producto(self, nombre, precio, cantidad):\n",
    "        if nombre in self.inventario:\n",
    "            self.inventario[nombre][0] = precio\n",
    "            self.inventario[nombre][1] = cantidad #intento actualizar precio y cantidad, update me da error\n",
    "            print(f\"El producto ya existe, en el inventario aparece la cantidad {cantidad} al precio {precio}.\") #actualizar producto con update\n",
    "\n",
    "        else:\n",
    "            self.inventario[nombre] = [precio, cantidad] #agregar producto, asignación directa\n",
    "            print(f\"El producto {nombre} se ha agregado con éxito.\")\n",
    "\n",
    "    def ver_inventario(self):\n",
    "        inventario = {}\n",
    "        for nombre in self.inventario: #bucle para iterar por el inventario, sin for se podrían hacer condicionales directamente\n",
    "            precio, cantidad = self.inventario[nombre] #extraer valores de una lista, aislar variables\n",
    "            inventario[nombre] = {\n",
    "                        \"Nombre\": nombre,\n",
    "                        \"Precio €\": precio,\n",
    "                         \"Cantidad\": cantidad,\n",
    "                        }\n",
    "        return inventario\n",
    "    \n",
    "    def buscar_producto(self, producto): #pongo producto como atributo para que reconozca la variable\n",
    "        for nombre in self.inventario: #se pide un bucle for\n",
    "            if nombre == producto: #definimos producto y lo == para que coincida con lo que ya tenemos en la lista\n",
    "                precio, cantidad = self.inventario[nombre] \n",
    "                print(f\"Detalles del producto. Nombre: {nombre}, Precio: {precio} €, cantidad {cantidad} en unidades.\")\n",
    "                return producto\n",
    "        else:\n",
    "            print(\"El producto que busca no está disponible.\") #else fuera para que no repita la iteración por todos los productos si no lo encuentra\n",
    "\n",
    "    def actualizar_stock(self, nombre, cantidad_actual):\n",
    "        for producto in self.inventario:\n",
    "            if nombre == producto:\n",
    "                precio, cantidad = self.inventario[nombre]\n",
    "                nueva_cantidad = cantidad + cantidad_actual #actualizar con ventas\n",
    "                if nueva_cantidad <0: #ha habido ventas y se ha reducido el stock\n",
    "                    print(f\"No se puede vender el producto {nombre} por falta de stock.\")\n",
    "                    \n",
    "                if cantidad_actual < 0:\n",
    "                    print(f\"Se han vendido {cantidad_actual} del producto {nombre}.\")  \n",
    "                elif cantidad_actual > 0 : #ha llegado stock a la tienda\n",
    "                    print(f\"Se han agregado {cantidad_actual} del producto {nombre}.\")\n",
    "                else: #no ha habido ventas ni ha llegado stock\n",
    "                    print(f\"El producto {nombre} no ha se ha modificado.\")\n",
    "            \n",
    "        if nombre not in self.inventario: #este producto no está en el inventario\n",
    "            print(f\"Este producto {nombre} no se encuentra en el inventario actualmente.\")\n",
    "\n",
    "    def eliminar_producto(self, nombre):\n",
    "        if nombre in self.inventario:\n",
    "            del self.inventario[nombre]\n",
    "            print(f\"El producto {nombre} ha sido eliminado con éxito.\")\n",
    "        else:\n",
    "            print(f\"El producto {nombre} no se encuentra en el inventario.\")\n",
    "\n",
    "    def calcular_valor_inventario(self):\n",
    "        total_valor = 0 #hay que empezar de 0 para que vaya sumando\n",
    "        for nombre, (precio, cantidad) in self.inventario.items(): #me itera por los tres, pero como es un diccionario hay que poner (), si no interpreta que es una tupla y items()\n",
    "            valor_producto = cantidad * precio\n",
    "            total_valor += valor_producto   #para que sume el valor en cada iteración por los productos\n",
    "            print(f\"Para el producto {nombre} el valor total es {valor_producto}\")\n",
    "        print(f\"El valor total de mi inventario es en € {total_valor}\") \n",
    "\n",
    "    def agregar_clientes(self, nombre, email):\n",
    "        if nombre in self.clientes.keys(): # se usa keys porque es un diccionario\n",
    "            print(f\"El cliente {nombre} está en la lista.\")\n",
    "        else:\n",
    "            self.clientes[nombre] = [nombre, email]\n",
    "            print(f\"El cliente {nombre} ha sido agregado con el email: {email}.\")"
   ]
  },
  {
   "cell_type": "code",
   "execution_count": 13,
   "id": "aa4bded2",
   "metadata": {},
   "outputs": [
    {
     "name": "stdout",
     "output_type": "stream",
     "text": [
      "El producto fresas se ha agregado con éxito.\n",
      "El producto arándanos se ha agregado con éxito.\n",
      "El producto ya existe, en el inventario aparece la cantidad 50 al precio 3.\n",
      "El producto patatas se ha agregado con éxito.\n",
      "Detalles del producto. Nombre: fresas, Precio: 3 €, cantidad 50 en unidades.\n",
      "Detalles del producto. Nombre: patatas, Precio: 4 €, cantidad 60 en unidades.\n",
      "El producto que busca no está disponible.\n",
      "Se han agregado 6 del producto fresas.\n",
      "Se han agregado 6 del producto patatas.\n",
      "Este producto manzanas no se encuentra en el inventario actualmente.\n",
      "El producto patatas ha sido eliminado con éxito.\n",
      "Para el producto fresas el valor total es 150\n",
      "Para el producto arándanos el valor total es 200\n",
      "El valor total de mi inventario es en € 350\n"
     ]
    }
   ],
   "source": [
    "tienda1 = TiendaOnline('Biotienda')\n",
    "tienda1.agregar_producto('fresas', 3, 50)\n",
    "tienda1.agregar_producto('arándanos', 5, 40)\n",
    "tienda1.agregar_producto('fresas', 3, 50)\n",
    "tienda1.agregar_producto('patatas', 4, 60)\n",
    "tienda1.ver_inventario() #el nombre queda redundante, pero si lo quito de la def me falla, así que lo dejo, en el ejercicio de repasso se hacía con id_number pero aquí lo he hecho con el nombre directamente\n",
    "tienda1.buscar_producto('fresas')\n",
    "tienda1.buscar_producto('patatas')\n",
    "tienda1.buscar_producto('manzanas')\n",
    "tienda1.actualizar_stock('fresas', 6)\n",
    "tienda1.actualizar_stock('patatas', 6)\n",
    "tienda1.actualizar_stock('manzanas', 6) \n",
    "tienda1.eliminar_producto('patatas')\n",
    "tienda1.ver_inventario() #se actualiza correctamente sin patatas\n",
    "tienda1.calcular_valor_inventario()"
   ]
  },
  {
   "cell_type": "code",
   "execution_count": 14,
   "id": "6af2074c",
   "metadata": {},
   "outputs": [
    {
     "name": "stdout",
     "output_type": "stream",
     "text": [
      "El cliente Marc ha sido agregado con el email: Marc@gmail.com.\n",
      "El cliente Mercedes ha sido agregado con el email: merce@gmail.com.\n",
      "El cliente Melania ha sido agregado con el email: mel@gmail.com.\n"
     ]
    }
   ],
   "source": [
    "cliente1 = ('Marc', 'Marc@gmail.com')\n",
    "cliente2 = ('Mercedes', 'merce@gmail.com')\n",
    "cliente3 = ('Melania', 'mel@gmail.com')\n",
    "tienda1.agregar_clientes('Marc', 'Marc@gmail.com')\n",
    "tienda1.agregar_clientes('Mercedes', 'merce@gmail.com')\n",
    "tienda1.agregar_clientes('Melania', 'mel@gmail.com')\n",
    "\n"
   ]
  },
  {
   "cell_type": "code",
   "execution_count": 15,
   "id": "3a7ebd9f",
   "metadata": {},
   "outputs": [
    {
     "ename": "AttributeError",
     "evalue": "'TiendaOnline' object has no attribute 'self'",
     "output_type": "error",
     "traceback": [
      "\u001b[1;31m---------------------------------------------------------------------------\u001b[0m",
      "\u001b[1;31mAttributeError\u001b[0m                            Traceback (most recent call last)",
      "Cell \u001b[1;32mIn[15], line 1\u001b[0m\n\u001b[1;32m----> 1\u001b[0m tienda1\u001b[38;5;241m.\u001b[39mself\u001b[38;5;241m.\u001b[39mclientes()\n",
      "\u001b[1;31mAttributeError\u001b[0m: 'TiendaOnline' object has no attribute 'self'"
     ]
    }
   ],
   "source": [
    "tienda1.self.clientes()"
   ]
  },
  {
   "cell_type": "code",
   "execution_count": null,
   "id": "5c5c629d",
   "metadata": {},
   "outputs": [],
   "source": [
    "def agregar_clientes(self, nombre, email):\n",
    "    if nombre in self.clientes.keys(): # se usa keys porque es un diccionario\n",
    "        print(f\"El cliente {nombre} está en la lista.\")\n",
    "    else:\n",
    "        self.clientes[nombre] = [nombre, email]\n",
    "        print(f\"El cliente {nombre} ha sido agregado con el email: {email}.\")\n"
   ]
  }
 ],
 "metadata": {
  "kernelspec": {
   "display_name": "base",
   "language": "python",
   "name": "python3"
  },
  "language_info": {
   "codemirror_mode": {
    "name": "ipython",
    "version": 3
   },
   "file_extension": ".py",
   "mimetype": "text/x-python",
   "name": "python",
   "nbconvert_exporter": "python",
   "pygments_lexer": "ipython3",
   "version": "3.12.7"
  }
 },
 "nbformat": 4,
 "nbformat_minor": 5
}
