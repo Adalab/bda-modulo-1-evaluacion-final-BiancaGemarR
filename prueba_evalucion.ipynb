{
 "cells": [
  {
   "cell_type": "code",
   "execution_count": 159,
   "id": "b8246d6c",
   "metadata": {},
   "outputs": [],
   "source": [
    "class TiendaOnline:\n",
    "    def __init__(self, nombre):\n",
    "        self.nombre = nombre \n",
    "        self.inventario = {}   #inventario y ventas totales son atributos\n",
    "        self.ventas_totales = float(0) #aquí tiene que ir un float\n",
    "\n",
    "    def agregar_producto(self, nombre, precio, cantidad):\n",
    "        if nombre in self.inventario:\n",
    "            self.inventario[nombre][0] = precio\n",
    "            self.inventario[nombre][1] = cantidad #intento actualizar precio y cantidad, update me da error\n",
    "            print(f\" El producto ya existe, en el inventario aparece la cantidad {cantidad} al precio {precio}.\") #actualizar producto con update\n",
    "\n",
    "        else:\n",
    "            self.inventario[nombre] = [precio, cantidad] #agregar producto, asignación directa\n",
    "            print(f\"El producto {nombre} se ha agregado con éxito.\")\n",
    "\n",
    "    def ver_inventario(self):\n",
    "        inventario = {}\n",
    "        for nombre in self.inventario: #bucle para iterar por el inventario\n",
    "            precio, cantidad = self.inventario[nombre] #extraer valores de una lista, aislar variables\n",
    "            inventario[nombre] = {\n",
    "                        \"Nombre\": nombre,\n",
    "                        \"Precio €\": precio,\n",
    "                         \"Cantidad\": cantidad,\n",
    "                        }\n",
    "        return inventario\n",
    "    \n",
    "    def buscar_producto(self, producto): #pongo producto como atributo para que reconozca la variable\n",
    "        for nombre in self.inventario: #se pide un bucle for\n",
    "            if nombre == producto: #definimos producto y lo == para que coincida con lo que ya tenemos en la lista\n",
    "                precio, cantidad = self.inventario[nombre] \n",
    "                print(f\"Detalles del producto. Nombre: {nombre}, Precio: {precio} €, cantidad {cantidad} en unidades.\")\n",
    "                return producto\n",
    "        else:\n",
    "            print(\"El producto que busca no está disponible.\")\n",
    "             \n"
   ]
  },
  {
   "cell_type": "code",
   "execution_count": null,
   "id": "6017242f",
   "metadata": {},
   "outputs": [],
   "source": [
    "def agregar_producto(self, nombre, precio, cantidad):\n",
    "    \n",
    "        if nombre in self.inventario:\n",
    "            \n",
    "            self.inventario[nombre][0] = precio\n",
    "            self.inventario[nombre][1] = cantidad #intento actualizar precio y cantidad, update me da error\n",
    "            print(f\" El producto ya existe, en el inventario aparece la cantidad {cantidad} al precio {precio}.\") #actualizar producto con update\n",
    "\n",
    "        else:\n",
    "            self.inventario[nombre] = [precio, cantidad] #agregar producto, asignación directa\n",
    "            print(f\"El producto {nombre} se ha agregado con éxito.\")"
   ]
  },
  {
   "cell_type": "code",
   "execution_count": null,
   "id": "56596258",
   "metadata": {},
   "outputs": [],
   "source": [
    "def ver_inventario(self):\n",
    "    inventario = {} # se deberá quitar, este solo prueba\n",
    "    for nombre in self.inventario: #bucle para iterar por el inventario\n",
    "        precio, cantidad = self.inventario[nombre] #desempaqueta una lista en variables\n",
    "        inventario[nombre] = {\n",
    "                    \"Nombre\": nombre,\n",
    "                    \"Precio\": precio,\n",
    "                    # \"Cantidad\": cantidad,\n",
    "                    }\n",
    "    return inventario"
   ]
  },
  {
   "cell_type": "code",
   "execution_count": null,
   "id": "7152e6b3",
   "metadata": {},
   "outputs": [
    {
     "ename": "SyntaxError",
     "evalue": "invalid syntax (3816424746.py, line 1)",
     "output_type": "error",
     "traceback": [
      "\u001b[1;36m  Cell \u001b[1;32mIn[152], line 1\u001b[1;36m\u001b[0m\n\u001b[1;33m    buscar_producto():\u001b[0m\n\u001b[1;37m                     ^\u001b[0m\n\u001b[1;31mSyntaxError\u001b[0m\u001b[1;31m:\u001b[0m invalid syntax\n"
     ]
    }
   ],
   "source": [
    "buscar_producto():\n",
    "for nombre in self.inventario:\n",
    "    if nombre in self.inventario: # esto no da bien\n",
    "        precio, cantidad = self.inventario[nombre] # esto sí, con cambios \n",
    "        print(f\"Detalles del producto. Nombre: {nombre}, Precio: {precio} €, cantidad {cantidad} en unidades.\")\n",
    "\n",
    "    else:\n",
    "        print(\"El producto que busca no está disponible.\")"
   ]
  },
  {
   "cell_type": "code",
   "execution_count": null,
   "id": "16708614",
   "metadata": {},
   "outputs": [],
   "source": [
    "def buscar_producto(self):\n",
    "    for nombre in self.inventario: #se pide un bucle for\n",
    "        if producto == nombre: #definimos producto y lo == para que coincida con lo que ya tenemos en la lista\n",
    "            precio, cantidad = self.inventario[nombre] \n",
    "            print(f\"Detalles del producto. Nombre: {nombre}, Precio: {precio} €, cantidad {cantidad} en unidades.\")\n",
    "\n",
    "        else:\n",
    "            print(\"El producto que busca no está disponible.\")"
   ]
  },
  {
   "cell_type": "code",
   "execution_count": 160,
   "id": "015e9362",
   "metadata": {},
   "outputs": [
    {
     "name": "stdout",
     "output_type": "stream",
     "text": [
      "El producto fresas se ha agregado con éxito.\n",
      "El producto arándanos se ha agregado con éxito.\n",
      " El producto ya existe, en el inventario aparece la cantidad 50 al precio 3.\n",
      "El producto patatas se ha agregado con éxito.\n"
     ]
    }
   ],
   "source": [
    "tienda1 = TiendaOnline('Biotienda')\n",
    "tienda1.agregar_producto('fresas', 3, 50)\n",
    "tienda1.agregar_producto('arándanos', 5, 40)\n",
    "tienda1.agregar_producto('fresas', 3, 50)\n",
    "tienda1.agregar_producto('patatas', 4, 60)"
   ]
  },
  {
   "cell_type": "code",
   "execution_count": 161,
   "id": "2557e87c",
   "metadata": {},
   "outputs": [
    {
     "data": {
      "text/plain": [
       "{'fresas': {'Nombre': 'fresas', 'Precio €': 3, 'Cantidad': 50},\n",
       " 'arándanos': {'Nombre': 'arándanos', 'Precio €': 5, 'Cantidad': 40},\n",
       " 'patatas': {'Nombre': 'patatas', 'Precio €': 4, 'Cantidad': 60}}"
      ]
     },
     "execution_count": 161,
     "metadata": {},
     "output_type": "execute_result"
    }
   ],
   "source": [
    "tienda1.ver_inventario() #el nombre queda redundante, pero si lo quito de la def me falla, así que lo dejo"
   ]
  },
  {
   "cell_type": "code",
   "execution_count": 162,
   "id": "9dd3cb89",
   "metadata": {},
   "outputs": [
    {
     "name": "stdout",
     "output_type": "stream",
     "text": [
      "Detalles del producto. Nombre: fresas, Precio: 3 €, cantidad 50 en unidades.\n",
      "Detalles del producto. Nombre: patatas, Precio: 4 €, cantidad 60 en unidades.\n"
     ]
    },
    {
     "data": {
      "text/plain": [
       "'patatas'"
      ]
     },
     "execution_count": 162,
     "metadata": {},
     "output_type": "execute_result"
    }
   ],
   "source": [
    "tienda1.buscar_producto('fresas')\n",
    "tienda1.buscar_producto('patatas')"
   ]
  },
  {
   "cell_type": "code",
   "execution_count": 163,
   "id": "7423f047",
   "metadata": {},
   "outputs": [
    {
     "name": "stdout",
     "output_type": "stream",
     "text": [
      "Detalles del producto. Nombre: fresas, Precio: 3 €, cantidad 50 en unidades.\n",
      "Detalles del producto. Nombre: patatas, Precio: 4 €, cantidad 60 en unidades.\n",
      "El producto que busca no está disponible.\n"
     ]
    }
   ],
   "source": [
    "tienda1.buscar_producto('fresas')\n",
    "tienda1.buscar_producto('patatas')\n",
    "tienda1.buscar_producto('manzanas')\n"
   ]
  }
 ],
 "metadata": {
  "kernelspec": {
   "display_name": "base",
   "language": "python",
   "name": "python3"
  },
  "language_info": {
   "codemirror_mode": {
    "name": "ipython",
    "version": 3
   },
   "file_extension": ".py",
   "mimetype": "text/x-python",
   "name": "python",
   "nbconvert_exporter": "python",
   "pygments_lexer": "ipython3",
   "version": "3.12.7"
  }
 },
 "nbformat": 4,
 "nbformat_minor": 5
}
