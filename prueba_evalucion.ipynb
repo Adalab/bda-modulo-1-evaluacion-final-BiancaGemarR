{
 "cells": [
  {
   "cell_type": "code",
   "execution_count": 223,
   "id": "b8246d6c",
   "metadata": {},
   "outputs": [],
   "source": [
    "class TiendaOnline:\n",
    "    def __init__(self, nombre):\n",
    "        self.nombre = nombre \n",
    "        self.inventario = {}   #inventario y ventas totales son atributos\n",
    "        self.ventas_totales = float(0) #aquí tiene que ir un float\n",
    "\n",
    "    def agregar_producto(self, nombre, precio, cantidad):\n",
    "        if nombre in self.inventario:\n",
    "            self.inventario[nombre][0] = precio\n",
    "            self.inventario[nombre][1] = cantidad #intento actualizar precio y cantidad, update me da error\n",
    "            print(f\" El producto ya existe, en el inventario aparece la cantidad {cantidad} al precio {precio}.\") #actualizar producto con update\n",
    "\n",
    "        else:\n",
    "            self.inventario[nombre] = [precio, cantidad] #agregar producto, asignación directa\n",
    "            print(f\"El producto {nombre} se ha agregado con éxito.\")\n",
    "\n",
    "    def ver_inventario(self):\n",
    "        inventario = {}\n",
    "        for nombre in self.inventario: #bucle para iterar por el inventario\n",
    "            precio, cantidad = self.inventario[nombre] #extraer valores de una lista, aislar variables\n",
    "            inventario[nombre] = {\n",
    "                        \"Nombre\": nombre,\n",
    "                        \"Precio €\": precio,\n",
    "                         \"Cantidad\": cantidad,\n",
    "                        }\n",
    "        return inventario\n",
    "    \n",
    "    def buscar_producto(self, producto): #pongo producto como atributo para que reconozca la variable\n",
    "        for nombre in self.inventario: #se pide un bucle for\n",
    "            if nombre == producto: #definimos producto y lo == para que coincida con lo que ya tenemos en la lista\n",
    "                precio, cantidad = self.inventario[nombre] \n",
    "                print(f\"Detalles del producto. Nombre: {nombre}, Precio: {precio} €, cantidad {cantidad} en unidades.\")\n",
    "                return producto\n",
    "        else:\n",
    "            print(\"El producto que busca no está disponible.\")\n",
    "\n",
    "    def actualizar_stock(self, nombre, cantidad_actual):\n",
    "        for producto in self.inventario:\n",
    "            if nombre == producto:\n",
    "                precio, cantidad = self.inventario[nombre]\n",
    "                nueva_cantidad = cantidad + cantidad_actual #actualizar con ventas\n",
    "                if nueva_cantidad <0: #ha habido ventas y se ha reducido el stock\n",
    "                    print(f\"No se puede vender el producto {nombre} por falta de stock.\")\n",
    "                    \n",
    "                if cantidad_actual < 0:\n",
    "                    print(f\"Se han vendido {cantidad_actual} del producto {nombre}.\")  \n",
    "                elif cantidad_actual > 0 : #ha llegado stock a la tienda\n",
    "                    print(f\"Se han agregado {cantidad_actual} del producto {nombre}.\")\n",
    "                else: #no ha habido ventas ni ha llegado stock\n",
    "                    print(f\"El producto {nombre} no ha se ha modificado.\")\n",
    "            \n",
    "            else:  #no ha habido ventas ni ha llegado stock\n",
    "                print(f\"Este producto {nombre} no se encuentra en el inventario actualmente.\")\n",
    "                break\n",
    "    def eliminar_producto(self, nombre):\n",
    "        if nombre in self.inventario:\n",
    "            del self.inventario[nombre]\n",
    "            print(f\"El producto {nombre} ha sido eliminado con éxito.\")\n",
    "        else:\n",
    "            print(f\"El producto {nombre} no se encuentra en el inventario.\")\n",
    "\n",
    "            \n",
    "\n",
    "             \n"
   ]
  },
  {
   "cell_type": "code",
   "execution_count": 224,
   "id": "13f36c43",
   "metadata": {},
   "outputs": [],
   "source": [
    " \n",
    "def eliminar_producto(self, nombre):\n",
    "    if nombre in self.inventario:\n",
    "        del self.inventario[nombre]\n",
    "        print(f\"El producto {nombre} ha sido eliminado con éxito.\")\n",
    "    else:\n",
    "        print(f\"El producto {nombre} no se encuentra en el inventario.\")"
   ]
  },
  {
   "cell_type": "code",
   "execution_count": 225,
   "id": "19d5f73e",
   "metadata": {},
   "outputs": [
    {
     "name": "stdout",
     "output_type": "stream",
     "text": [
      "Se han agregado 6 del producto fresas.\n",
      "Este producto fresas no se encuentra en el inventario actualmente.\n",
      "Este producto fresas no se encuentra en el inventario actualmente.\n"
     ]
    }
   ],
   "source": [
    "tienda1.actualizar_stock('fresas', 6)"
   ]
  },
  {
   "cell_type": "code",
   "execution_count": 226,
   "id": "70265c3e",
   "metadata": {},
   "outputs": [
    {
     "ename": "SyntaxError",
     "evalue": "incomplete input (1997494677.py, line 5)",
     "output_type": "error",
     "traceback": [
      "\u001b[1;36m  Cell \u001b[1;32mIn[226], line 5\u001b[1;36m\u001b[0m\n\u001b[1;33m    \u001b[0m\n\u001b[1;37m    ^\u001b[0m\n\u001b[1;31mSyntaxError\u001b[0m\u001b[1;31m:\u001b[0m incomplete input\n"
     ]
    }
   ],
   "source": [
    "def actualizar_stock(self, nombre= None, cantidad = None):\n",
    "    for producto in self.inventario:\n",
    "        if producto == nombre:\n",
    "            \n",
    "            "
   ]
  },
  {
   "cell_type": "code",
   "execution_count": null,
   "id": "e85a844f",
   "metadata": {},
   "outputs": [
    {
     "ename": "IndentationError",
     "evalue": "expected an indented block after 'if' statement on line 4 (1937694687.py, line 5)",
     "output_type": "error",
     "traceback": [
      "\u001b[1;36m  Cell \u001b[1;32mIn[178], line 5\u001b[1;36m\u001b[0m\n\u001b[1;33m    elif cantidad > 0: #ha llegado stock a la tienda\u001b[0m\n\u001b[1;37m    ^\u001b[0m\n\u001b[1;31mIndentationError\u001b[0m\u001b[1;31m:\u001b[0m expected an indented block after 'if' statement on line 4\n"
     ]
    }
   ],
   "source": [
    "def actualizar_stock(self, nombre, cantidad):\n",
    "    for producto in self.inventario:\n",
    "        if nombre == producto:\n",
    "            if cantidad <0: #ha habido ventas y se ha reducido el stock\n",
    "            elif cantidad > 0: #ha llegado stock a la tienda\n",
    "            else:  #no ha habido ventas ni ha llegado stock\n"
   ]
  },
  {
   "cell_type": "code",
   "execution_count": null,
   "id": "0b84f890",
   "metadata": {},
   "outputs": [],
   "source": [
    "def actualizar_stock(self, nombre, cantidad):\n",
    "    for producto in self.inventario:\n",
    "        ventas = 0\n",
    "        compras = 0\n",
    "        if nombre == producto:\n",
    "            if cantidad < nueva_cantidad: #ha habido ventas y se ha reducido el stock\n",
    "               precio, cantidad = self.inventario[nombre]\n",
    "               nueva_cantidad = cantidad - ventas #actualizar con ventas\n",
    "               \n",
    "            elif cantidad > nueva_cantidad : #ha llegado stock a la tienda\n",
    "                precio, cantidad = self.inventario[nombre]\n",
    "                nueva_cantidad = cantidad + compras #agregar a stock\n",
    "\n",
    "            else:  #no ha habido ventas ni ha llegado stock\n",
    "                print(f\"Este producto {nombre} no se encuentra en el inventario actualmente.\")\n",
    "\n",
    "#algo también da error"
   ]
  },
  {
   "cell_type": "code",
   "execution_count": null,
   "id": "a1868681",
   "metadata": {},
   "outputs": [],
   "source": [
    "def actualizar_stock(self, nombre, cantidad_actual):\n",
    "    for producto in self.inventario:\n",
    "        if nombre == producto:\n",
    "            precio, cantidad = self.inventario[nombre]\n",
    "            nueva_cantidad = cantidad + cantidad_actual #actualizar con ventas\n",
    "            if nueva_cantidad <0: #ha habido ventas y se ha reducido el stock\n",
    "                print(f\"No se puede vender el producto {nombre} por falta de stock.\")\n",
    "                self.inventario[nombre] = [precio, nueva_cantidad]\n",
    "                \n",
    "            if cantidad_actual < 0:\n",
    "                print(f\"Se han vendido {cantidad_actual} del producto {nombre}.\")  \n",
    "            elif cantidad_actual > 0 : #ha llegado stock a la tienda\n",
    "                print(f\"Se han agregado {cantidad_actual} del producto {nombre}.\")\n",
    "            else: #no ha habido ventas ni ha llegado stock\n",
    "                 print(f\"El producto {nombre} no ha se ha modificado.\")\n",
    "        \n",
    "        else:  #no ha habido ventas ni ha llegado stock\n",
    "            print(f\"Este producto {nombre} no se encuentra en el inventario actualmente.\")\n",
    "            break"
   ]
  },
  {
   "cell_type": "code",
   "execution_count": null,
   "id": "19dcaf8a",
   "metadata": {},
   "outputs": [
    {
     "ename": "AttributeError",
     "evalue": "'str' object has no attribute 'inventario'",
     "output_type": "error",
     "traceback": [
      "\u001b[1;31m---------------------------------------------------------------------------\u001b[0m",
      "\u001b[1;31mAttributeError\u001b[0m                            Traceback (most recent call last)",
      "Cell \u001b[1;32mIn[183], line 2\u001b[0m\n\u001b[0;32m      1\u001b[0m ventas \u001b[38;5;241m=\u001b[39m \u001b[38;5;241m1\u001b[39m\n\u001b[1;32m----> 2\u001b[0m actualizar_stock(\u001b[38;5;124m'\u001b[39m\u001b[38;5;124mfresas\u001b[39m\u001b[38;5;124m'\u001b[39m, \u001b[38;5;241m3\u001b[39m, \u001b[38;5;241m+\u001b[39m\u001b[38;5;241m6\u001b[39m)\n",
      "Cell \u001b[1;32mIn[180], line 2\u001b[0m, in \u001b[0;36mactualizar_stock\u001b[1;34m(self, nombre, cantidad_actual)\u001b[0m\n\u001b[0;32m      1\u001b[0m \u001b[38;5;28;01mdef\u001b[39;00m \u001b[38;5;21mactualizar_stock\u001b[39m(\u001b[38;5;28mself\u001b[39m, nombre, cantidad_actual):\n\u001b[1;32m----> 2\u001b[0m     \u001b[38;5;28;01mfor\u001b[39;00m producto \u001b[38;5;129;01min\u001b[39;00m \u001b[38;5;28mself\u001b[39m\u001b[38;5;241m.\u001b[39minventario:\n\u001b[0;32m      3\u001b[0m         \u001b[38;5;28;01mif\u001b[39;00m nombre \u001b[38;5;241m==\u001b[39m producto:\n\u001b[0;32m      4\u001b[0m             precio, cantidad \u001b[38;5;241m=\u001b[39m \u001b[38;5;28mself\u001b[39m\u001b[38;5;241m.\u001b[39minventario[nombre]\n",
      "\u001b[1;31mAttributeError\u001b[0m: 'str' object has no attribute 'inventario'"
     ]
    }
   ],
   "source": [
    "\n",
    "actualizar_stock('fresas', 3, +6)"
   ]
  },
  {
   "cell_type": "code",
   "execution_count": null,
   "id": "ca80bdd8",
   "metadata": {},
   "outputs": [],
   "source": [
    "def actualizar_stock(self, nombre, cantidad):\n",
    "    for producto in self.inventario:\n",
    "        if nombre == producto:\n",
    "           if cantidad in self.inventario > cantidad_pedido: #se puede vender, actualizar stock\n",
    "              cantidad in self.inventario = cantidad - cantidad_pedido \n",
    "\n",
    "           elif cantidad in self.inventario < 0: #agregar pedido nuevo tienda\n",
    "                \n",
    "                cantidad += nuevo_pedido\n",
    "\n",
    "            else:\n",
    "                print(f\"Del producto {nombre} queda un stock de {cantidad}.\")\n",
    "        else:\n",
    "            print(f\"Este producto {nombre} no se encuentra en el inventario actualmente.\")\n",
    "\n",
    "#da error"
   ]
  },
  {
   "cell_type": "code",
   "execution_count": null,
   "id": "1f696da8",
   "metadata": {},
   "outputs": [],
   "source": [
    "def actualizar_stock(self, nombre, cantidad):\n",
    "    for producto in self.inventario:\n",
    "        if nombre == producto:\n",
    "            precio, cantidad_actual = self.inventario[nombre]\n",
    "            nueva_cantidad = cantidad_actual + cantidad\n",
    "            if cantidad_actual < cantidad: #si se produce una venta\n",
    "                precio, cantidad_actual = self.inventario[nombre]\n",
    "                cantidad_actual -= cantidad\n",
    "\n",
    "            elif cantidad_actual > cantidad: #si se agrega al inventario\n",
    "                precio, cantidad_actual = self.inventario[nombre]\n",
    "                cantidad_actual -= cantidad\n",
    "            else:\n",
    "                print(f\"Del producto {nombre} queda un stock de {cantidad}.\")\n",
    "        else:\n",
    "            print(f\"Este producto {nombre} no se encuentra en el inventario actualmente.\")\n",
    "#da error"
   ]
  },
  {
   "cell_type": "code",
   "execution_count": null,
   "id": "6017242f",
   "metadata": {},
   "outputs": [],
   "source": [
    "def agregar_producto(self, nombre, precio, cantidad):\n",
    "    \n",
    "        if nombre in self.inventario:\n",
    "            \n",
    "            self.inventario[nombre][0] = precio\n",
    "            self.inventario[nombre][1] = cantidad #intento actualizar precio y cantidad, update me da error\n",
    "            print(f\" El producto ya existe, en el inventario aparece la cantidad {cantidad} al precio {precio}.\") #actualizar producto con update\n",
    "\n",
    "        else:\n",
    "            self.inventario[nombre] = [precio, cantidad] #agregar producto, asignación directa\n",
    "            print(f\"El producto {nombre} se ha agregado con éxito.\")"
   ]
  },
  {
   "cell_type": "code",
   "execution_count": null,
   "id": "56596258",
   "metadata": {},
   "outputs": [],
   "source": [
    "def ver_inventario(self):\n",
    "    inventario = {} # se deberá quitar, este solo prueba\n",
    "    for nombre in self.inventario: #bucle para iterar por el inventario\n",
    "        precio, cantidad = self.inventario[nombre] #desempaqueta una lista en variables\n",
    "        inventario[nombre] = {\n",
    "                    \"Nombre\": nombre,\n",
    "                    \"Precio\": precio,\n",
    "                    # \"Cantidad\": cantidad,\n",
    "                    }\n",
    "    return inventario"
   ]
  },
  {
   "cell_type": "code",
   "execution_count": null,
   "id": "7152e6b3",
   "metadata": {},
   "outputs": [
    {
     "ename": "SyntaxError",
     "evalue": "invalid syntax (3816424746.py, line 1)",
     "output_type": "error",
     "traceback": [
      "\u001b[1;36m  Cell \u001b[1;32mIn[152], line 1\u001b[1;36m\u001b[0m\n\u001b[1;33m    buscar_producto():\u001b[0m\n\u001b[1;37m                     ^\u001b[0m\n\u001b[1;31mSyntaxError\u001b[0m\u001b[1;31m:\u001b[0m invalid syntax\n"
     ]
    }
   ],
   "source": [
    "buscar_producto():\n",
    "for nombre in self.inventario:\n",
    "    if nombre in self.inventario: # esto no da bien\n",
    "        precio, cantidad = self.inventario[nombre] # esto sí, con cambios \n",
    "        print(f\"Detalles del producto. Nombre: {nombre}, Precio: {precio} €, cantidad {cantidad} en unidades.\")\n",
    "\n",
    "    else:\n",
    "        print(\"El producto que busca no está disponible.\")"
   ]
  },
  {
   "cell_type": "code",
   "execution_count": null,
   "id": "16708614",
   "metadata": {},
   "outputs": [],
   "source": [
    "def buscar_producto(self):\n",
    "    for nombre in self.inventario: #se pide un bucle for\n",
    "        if producto == nombre: #definimos producto y lo == para que coincida con lo que ya tenemos en la lista\n",
    "            precio, cantidad = self.inventario[nombre] \n",
    "            print(f\"Detalles del producto. Nombre: {nombre}, Precio: {precio} €, cantidad {cantidad} en unidades.\")\n",
    "\n",
    "        else:\n",
    "            print(\"El producto que busca no está disponible.\")"
   ]
  },
  {
   "cell_type": "code",
   "execution_count": 227,
   "id": "015e9362",
   "metadata": {},
   "outputs": [
    {
     "name": "stdout",
     "output_type": "stream",
     "text": [
      "El producto fresas se ha agregado con éxito.\n",
      "El producto arándanos se ha agregado con éxito.\n",
      " El producto ya existe, en el inventario aparece la cantidad 50 al precio 3.\n",
      "El producto patatas se ha agregado con éxito.\n"
     ]
    }
   ],
   "source": [
    "tienda1 = TiendaOnline('Biotienda')\n",
    "tienda1.agregar_producto('fresas', 3, 50)\n",
    "tienda1.agregar_producto('arándanos', 5, 40)\n",
    "tienda1.agregar_producto('fresas', 3, 50)\n",
    "tienda1.agregar_producto('patatas', 4, 60)"
   ]
  },
  {
   "cell_type": "code",
   "execution_count": 228,
   "id": "2557e87c",
   "metadata": {},
   "outputs": [
    {
     "data": {
      "text/plain": [
       "{'fresas': {'Nombre': 'fresas', 'Precio €': 3, 'Cantidad': 50},\n",
       " 'arándanos': {'Nombre': 'arándanos', 'Precio €': 5, 'Cantidad': 40},\n",
       " 'patatas': {'Nombre': 'patatas', 'Precio €': 4, 'Cantidad': 60}}"
      ]
     },
     "execution_count": 228,
     "metadata": {},
     "output_type": "execute_result"
    }
   ],
   "source": [
    "tienda1.ver_inventario() #el nombre queda redundante, pero si lo quito de la def me falla, así que lo dejo"
   ]
  },
  {
   "cell_type": "code",
   "execution_count": 229,
   "id": "9dd3cb89",
   "metadata": {},
   "outputs": [
    {
     "name": "stdout",
     "output_type": "stream",
     "text": [
      "Detalles del producto. Nombre: fresas, Precio: 3 €, cantidad 50 en unidades.\n",
      "Detalles del producto. Nombre: patatas, Precio: 4 €, cantidad 60 en unidades.\n"
     ]
    },
    {
     "data": {
      "text/plain": [
       "'patatas'"
      ]
     },
     "execution_count": 229,
     "metadata": {},
     "output_type": "execute_result"
    }
   ],
   "source": [
    "tienda1.buscar_producto('fresas')\n",
    "tienda1.buscar_producto('patatas')"
   ]
  },
  {
   "cell_type": "code",
   "execution_count": 230,
   "id": "7423f047",
   "metadata": {},
   "outputs": [
    {
     "name": "stdout",
     "output_type": "stream",
     "text": [
      "Detalles del producto. Nombre: fresas, Precio: 3 €, cantidad 50 en unidades.\n",
      "Detalles del producto. Nombre: patatas, Precio: 4 €, cantidad 60 en unidades.\n",
      "El producto que busca no está disponible.\n"
     ]
    }
   ],
   "source": [
    "tienda1.buscar_producto('fresas')\n",
    "tienda1.buscar_producto('patatas')\n",
    "tienda1.buscar_producto('manzanas')\n"
   ]
  },
  {
   "cell_type": "code",
   "execution_count": 231,
   "id": "20fa924f",
   "metadata": {},
   "outputs": [
    {
     "name": "stdout",
     "output_type": "stream",
     "text": [
      "Se han agregado 6 del producto fresas.\n",
      "Este producto fresas no se encuentra en el inventario actualmente.\n",
      "Este producto patatas no se encuentra en el inventario actualmente.\n",
      "Este producto manzanas no se encuentra en el inventario actualmente.\n"
     ]
    }
   ],
   "source": [
    "tienda1.actualizar_stock('fresas', 6)\n",
    "tienda1.actualizar_stock('patatas', 6)\n",
    "tienda1.actualizar_stock('manzanas', 6)"
   ]
  },
  {
   "cell_type": "code",
   "execution_count": 232,
   "id": "070a49f2",
   "metadata": {},
   "outputs": [
    {
     "name": "stdout",
     "output_type": "stream",
     "text": [
      "El producto patatas ha sido eliminado con éxito.\n"
     ]
    }
   ],
   "source": [
    "tienda1.eliminar_producto('patatas')\n"
   ]
  }
 ],
 "metadata": {
  "kernelspec": {
   "display_name": "base",
   "language": "python",
   "name": "python3"
  },
  "language_info": {
   "codemirror_mode": {
    "name": "ipython",
    "version": 3
   },
   "file_extension": ".py",
   "mimetype": "text/x-python",
   "name": "python",
   "nbconvert_exporter": "python",
   "pygments_lexer": "ipython3",
   "version": "3.12.7"
  }
 },
 "nbformat": 4,
 "nbformat_minor": 5
}
