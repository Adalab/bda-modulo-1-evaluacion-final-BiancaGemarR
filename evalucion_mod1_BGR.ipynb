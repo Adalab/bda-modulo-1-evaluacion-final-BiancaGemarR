{
 "cells": [
  {
   "cell_type": "code",
   "execution_count": 5,
   "id": "7225e49d",
   "metadata": {},
   "outputs": [],
   "source": [
    "class TiendaOnline:\n",
    "    def __init__(self, nombre):\n",
    "        self.nombre = nombre \n",
    "        self.inventario = {}   #inventario y ventas totales son atributos\n",
    "        self.ventas_totales = float(0) #aquí tiene que ir un float\n",
    "\n",
    "    def agregar_producto(self, nombre, precio, cantidad):\n",
    "        if nombre in self.inventario:\n",
    "            self.inventario[nombre][0] = precio\n",
    "            self.inventario[nombre][1] = cantidad #intento actualizar precio y cantidad, update me da error\n",
    "            print(f\" El producto ya existe, en el inventario aparece la cantidad {cantidad} al precio {precio}.\") #actualizar producto con update\n",
    "\n",
    "        else:\n",
    "            self.inventario[nombre] = [precio, cantidad] #agregar producto, asignación directa\n",
    "            print(f\"El producto {nombre} se ha agregado con éxito.\")\n",
    "\n",
    "    def ver_inventario(self):\n",
    "        inventario = {}\n",
    "        for nombre in self.inventario: #bucle para iterar por el inventario\n",
    "            precio, cantidad = self.inventario[nombre] #extraer valores de una lista, aislar variables\n",
    "            inventario[nombre] = {\n",
    "                        \"Nombre\": nombre,\n",
    "                        \"Precio €\": precio,\n",
    "                         \"Cantidad\": cantidad,\n",
    "                        }\n",
    "        return inventario"
   ]
  },
  {
   "cell_type": "code",
   "execution_count": 6,
   "id": "839442b9",
   "metadata": {},
   "outputs": [
    {
     "name": "stdout",
     "output_type": "stream",
     "text": [
      "El producto fresas se ha agregado con éxito.\n",
      "El producto arándanos se ha agregado con éxito.\n",
      " El producto ya existe, en el inventario aparece la cantidad 50 al precio 3.\n",
      "El producto patatas se ha agregado con éxito.\n"
     ]
    }
   ],
   "source": [
    "tienda1 = TiendaOnline('Biotienda')\n",
    "tienda1.agregar_producto('fresas', 3, 50)\n",
    "tienda1.agregar_producto('arándanos', 5, 40)\n",
    "tienda1.agregar_producto('fresas', 3, 50)\n",
    "tienda1.agregar_producto('patatas', 4, 60)"
   ]
  },
  {
   "cell_type": "code",
   "execution_count": null,
   "id": "9545b3ea",
   "metadata": {},
   "outputs": [
    {
     "data": {
      "text/plain": [
       "{'fresas': {'Nombre': 'fresas', 'Precio €': 3, 'Cantidad': 50},\n",
       " 'arándanos': {'Nombre': 'arándanos', 'Precio €': 5, 'Cantidad': 40},\n",
       " 'patatas': {'Nombre': 'patatas', 'Precio €': 4, 'Cantidad': 60}}"
      ]
     },
     "execution_count": 7,
     "metadata": {},
     "output_type": "execute_result"
    }
   ],
   "source": [
    "tienda1.ver_inventario() #el nombre queda redundante, pero si lo quito de la def me falla, así que lo dejo, en el ejercicio de repasso se hacía con id_number pero aquí lo he hecho con el nombre directamente"
   ]
  }
 ],
 "metadata": {
  "kernelspec": {
   "display_name": "base",
   "language": "python",
   "name": "python3"
  },
  "language_info": {
   "codemirror_mode": {
    "name": "ipython",
    "version": 3
   },
   "file_extension": ".py",
   "mimetype": "text/x-python",
   "name": "python",
   "nbconvert_exporter": "python",
   "pygments_lexer": "ipython3",
   "version": "3.12.7"
  }
 },
 "nbformat": 4,
 "nbformat_minor": 5
}
