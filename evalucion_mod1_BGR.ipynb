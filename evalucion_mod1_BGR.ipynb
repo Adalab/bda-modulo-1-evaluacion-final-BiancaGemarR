{
 "cells": [
  {
   "cell_type": "code",
   "execution_count": 42,
   "id": "7225e49d",
   "metadata": {},
   "outputs": [],
   "source": [
    "class TiendaOnline:\n",
    "    def __init__(self, nombre):\n",
    "        self.nombre = nombre \n",
    "        self.inventario = {}   #inventario y ventas totales son atributos\n",
    "        self.ventas_totales = float(0) #aquí tiene que ir un float\n",
    "\n",
    "    def agregar_producto(self, nombre, precio, cantidad):\n",
    "        if nombre in self.inventario:\n",
    "            self.inventario[nombre][0] = precio\n",
    "            self.inventario[nombre][1] = cantidad #intento actualizar precio y cantidad, update me da error\n",
    "            print(f\" El producto ya existe, en el inventario aparece la cantidad {cantidad} al precio {precio}.\") #actualizar producto con update\n",
    "\n",
    "        else:\n",
    "            self.inventario[nombre] = [precio, cantidad] #agregar producto, asignación directa\n",
    "            print(f\"El producto {nombre} se ha agregado con éxito.\")\n",
    "\n",
    "    def ver_inventario(self):\n",
    "        inventario = {}\n",
    "        for nombre in self.inventario: #bucle para iterar por el inventario, sin for se podrían hacer condicionales directamente\n",
    "            precio, cantidad = self.inventario[nombre] #extraer valores de una lista, aislar variables\n",
    "            inventario[nombre] = {\n",
    "                        \"Nombre\": nombre,\n",
    "                        \"Precio €\": precio,\n",
    "                         \"Cantidad\": cantidad,\n",
    "                        }\n",
    "        return inventario\n",
    "    \n",
    "    def buscar_producto(self, producto): #pongo producto como atributo para que reconozca la variable\n",
    "        for nombre in self.inventario: #se pide un bucle for\n",
    "            if nombre == producto: #definimos producto y lo == para que coincida con lo que ya tenemos en la lista\n",
    "                precio, cantidad = self.inventario[nombre] \n",
    "                print(f\"Detalles del producto. Nombre: {nombre}, Precio: {precio} €, cantidad {cantidad} en unidades.\")\n",
    "                return producto\n",
    "        else:\n",
    "            print(\"El producto que busca no está disponible.\") #else fuera para que no repita la iteración por todos los productos si no lo encuentra\n",
    "\n",
    "    def actualizar_stock(self, nombre, cantidad_actual):\n",
    "        for producto in self.inventario:\n",
    "            if nombre == producto:\n",
    "                precio, cantidad = self.inventario[nombre]\n",
    "                nueva_cantidad = cantidad + cantidad_actual #actualizar con ventas\n",
    "                if nueva_cantidad <0: #ha habido ventas y se ha reducido el stock\n",
    "                    print(f\"No se puede vender el producto {nombre} por falta de stock.\")\n",
    "                    \n",
    "                if cantidad_actual < 0:\n",
    "                    print(f\"Se han vendido {cantidad_actual} del producto {nombre}.\")  \n",
    "                elif cantidad_actual > 0 : #ha llegado stock a la tienda\n",
    "                    print(f\"Se han agregado {cantidad_actual} del producto {nombre}.\")\n",
    "                else: #no ha habido ventas ni ha llegado stock\n",
    "                    print(f\"El producto {nombre} no ha se ha modificado.\")\n",
    "            \n",
    "            else: #no ha habido ventas ni ha llegado stock\n",
    "                print(f\"Este producto {nombre} no se encuentra en el inventario actualmente.\")\n",
    "    def eliminar_producto(self, nombre):\n",
    "        if nombre in self.inventario:\n",
    "            del self.inventario[nombre]\n",
    "            print(f\"El producto {nombre} ha sido eliminado con éxito.\")\n",
    "        else:\n",
    "            print(f\"El producto {nombre} no se encuentra en el inventario.\")\n",
    "                "
   ]
  },
  {
   "cell_type": "code",
   "execution_count": 43,
   "id": "839442b9",
   "metadata": {},
   "outputs": [
    {
     "name": "stdout",
     "output_type": "stream",
     "text": [
      "El producto fresas se ha agregado con éxito.\n",
      "El producto arándanos se ha agregado con éxito.\n",
      " El producto ya existe, en el inventario aparece la cantidad 50 al precio 3.\n",
      "El producto patatas se ha agregado con éxito.\n"
     ]
    }
   ],
   "source": [
    "tienda1 = TiendaOnline('Biotienda')\n",
    "tienda1.agregar_producto('fresas', 3, 50)\n",
    "tienda1.agregar_producto('arándanos', 5, 40)\n",
    "tienda1.agregar_producto('fresas', 3, 50)\n",
    "tienda1.agregar_producto('patatas', 4, 60)"
   ]
  },
  {
   "cell_type": "code",
   "execution_count": 44,
   "id": "9545b3ea",
   "metadata": {},
   "outputs": [
    {
     "data": {
      "text/plain": [
       "{'fresas': {'Nombre': 'fresas', 'Precio €': 3, 'Cantidad': 50},\n",
       " 'arándanos': {'Nombre': 'arándanos', 'Precio €': 5, 'Cantidad': 40},\n",
       " 'patatas': {'Nombre': 'patatas', 'Precio €': 4, 'Cantidad': 60}}"
      ]
     },
     "execution_count": 44,
     "metadata": {},
     "output_type": "execute_result"
    }
   ],
   "source": [
    "tienda1.ver_inventario() #el nombre queda redundante, pero si lo quito de la def me falla, así que lo dejo, en el ejercicio de repasso se hacía con id_number pero aquí lo he hecho con el nombre directamente"
   ]
  },
  {
   "cell_type": "code",
   "execution_count": 45,
   "id": "3f15109d",
   "metadata": {},
   "outputs": [
    {
     "name": "stdout",
     "output_type": "stream",
     "text": [
      "Detalles del producto. Nombre: fresas, Precio: 3 €, cantidad 50 en unidades.\n",
      "Detalles del producto. Nombre: patatas, Precio: 4 €, cantidad 60 en unidades.\n",
      "El producto que busca no está disponible.\n"
     ]
    }
   ],
   "source": [
    "tienda1.buscar_producto('fresas')\n",
    "tienda1.buscar_producto('patatas')\n",
    "tienda1.buscar_producto('manzanas')"
   ]
  },
  {
   "cell_type": "code",
   "execution_count": 46,
   "id": "20240120",
   "metadata": {},
   "outputs": [
    {
     "name": "stdout",
     "output_type": "stream",
     "text": [
      "Se han agregado 6 del producto fresas.\n",
      "Este producto fresas no se encuentra en el inventario actualmente.\n",
      "Este producto fresas no se encuentra en el inventario actualmente.\n",
      "Este producto patatas no se encuentra en el inventario actualmente.\n",
      "Este producto patatas no se encuentra en el inventario actualmente.\n",
      "Se han agregado 6 del producto patatas.\n",
      "Este producto manzanas no se encuentra en el inventario actualmente.\n",
      "Este producto manzanas no se encuentra en el inventario actualmente.\n",
      "Este producto manzanas no se encuentra en el inventario actualmente.\n"
     ]
    }
   ],
   "source": [
    "tienda1.actualizar_stock('fresas', 6)\n",
    "tienda1.actualizar_stock('patatas', 6)\n",
    "tienda1.actualizar_stock('manzanas', 6) #no sé por qué no se para el bucle"
   ]
  },
  {
   "cell_type": "code",
   "execution_count": null,
   "id": "58c4f84b",
   "metadata": {},
   "outputs": [
    {
     "name": "stdout",
     "output_type": "stream",
     "text": [
      "El producto patatas no se encuentra en el inventario.\n"
     ]
    },
    {
     "data": {
      "text/plain": [
       "{'fresas': {'Nombre': 'fresas', 'Precio €': 3, 'Cantidad': 50},\n",
       " 'arándanos': {'Nombre': 'arándanos', 'Precio €': 5, 'Cantidad': 40}}"
      ]
     },
     "execution_count": 49,
     "metadata": {},
     "output_type": "execute_result"
    }
   ],
   "source": [
    "tienda1.eliminar_producto('patatas')\n",
    "tienda1.ver_inventario() #se actualiza correctamente sin patatas"
   ]
  }
 ],
 "metadata": {
  "kernelspec": {
   "display_name": "base",
   "language": "python",
   "name": "python3"
  },
  "language_info": {
   "codemirror_mode": {
    "name": "ipython",
    "version": 3
   },
   "file_extension": ".py",
   "mimetype": "text/x-python",
   "name": "python",
   "nbconvert_exporter": "python",
   "pygments_lexer": "ipython3",
   "version": "3.12.7"
  }
 },
 "nbformat": 4,
 "nbformat_minor": 5
}
